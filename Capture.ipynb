{
 "cells": [
  {
   "cell_type": "code",
   "execution_count": 1,
   "id": "d94a615d-071c-4d69-9c6f-062b769a9ed0",
   "metadata": {},
   "outputs": [],
   "source": [
    "import cv2\n",
    "import os\n",
    "import time\n",
    "import uuid"
   ]
  },
  {
   "cell_type": "code",
   "execution_count": 2,
   "id": "712355ce-777a-476d-867f-0a1121065e48",
   "metadata": {},
   "outputs": [],
   "source": [
    "IMAGES_PATH = \"Gestes/imageCollection\""
   ]
  },
  {
   "cell_type": "code",
   "execution_count": 3,
   "id": "9cea09db-af83-495c-b5be-46adc29d89af",
   "metadata": {},
   "outputs": [],
   "source": [
    "labels = ['hello','thanks','yes','no','iLoveyou']\n",
    "nbr_imgs = 15"
   ]
  },
  {
   "cell_type": "code",
   "execution_count": 4,
   "id": "eb653e8b-36cb-4f78-b3b7-1ce629343ae3",
   "metadata": {},
   "outputs": [
    {
     "name": "stdout",
     "output_type": "stream",
     "text": [
      "Collecting images for hello\n",
      "Collecting images for thanks\n",
      "Collecting images for yes\n",
      "Collecting images for no\n",
      "Collecting images for iLoveyou\n"
     ]
    }
   ],
   "source": [
    "cap = cv2.VideoCapture(0)\n",
    "for label in labels:\n",
    "    # Create the directory for the current label if it doesn't exist\n",
    "    os.makedirs(os.path.join(IMAGES_PATH, label), exist_ok=True)\n",
    "    print(f'Collecting images for {label}')\n",
    "    time.sleep(5)  # Give time to prepare for the next label\n",
    "\n",
    "    for img_num in range(nbr_imgs):\n",
    "        ret, frame = cap.read()\n",
    "        if not ret:\n",
    "            print(\"Failed to grab frame\")\n",
    "            break\n",
    "\n",
    "        imgname = os.path.join(IMAGES_PATH, label, f\"{label}.{str(uuid.uuid1())}.jpg\")\n",
    "        cv2.imwrite(imgname, frame)\n",
    "        cv2.imshow('frame', frame)\n",
    "        time.sleep(2)  # Wait for 2 seconds between captures\n",
    "\n",
    "        # Exit on 'q' key press\n",
    "        if cv2.waitKey(1) & 0xFF == ord('q'):\n",
    "            break\n",
    "\n",
    "# Release the camera and close all OpenCV windows\n",
    "cap.release()\n",
    "cv2.destroyAllWindows()"
   ]
  },
  {
   "cell_type": "code",
   "execution_count": null,
   "id": "639f93b8-8f78-4a8f-99dc-d915b73d7f2a",
   "metadata": {},
   "outputs": [],
   "source": []
  }
 ],
 "metadata": {
  "kernelspec": {
   "display_name": "Python 3 (ipykernel)",
   "language": "python",
   "name": "python3"
  },
  "language_info": {
   "codemirror_mode": {
    "name": "ipython",
    "version": 3
   },
   "file_extension": ".py",
   "mimetype": "text/x-python",
   "name": "python",
   "nbconvert_exporter": "python",
   "pygments_lexer": "ipython3",
   "version": "3.11.8"
  }
 },
 "nbformat": 4,
 "nbformat_minor": 5
}
